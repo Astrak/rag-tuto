{
 "cells": [
  {
   "cell_type": "code",
   "execution_count": 3,
   "id": "68cec13d",
   "metadata": {},
   "outputs": [],
   "source": [
    "from dotenv import load_dotenv\n",
    "import os\n",
    "\n",
    "load_dotenv()\n",
    "\n",
    "openai_api_key = os.getenv(\"OPENAI_API_KEY\")\n",
    "if not openai_api_key:\n",
    "    raise EnvironmentError(\"OPENAI_API_KEY not found in .env\")\n",
    "\n",
    "os.environ[\"OPENAI_API_KEY\"] = openai_api_key\n",
    "\n",
    "langsmith_api_key = os.getenv(\"LANGSMITH_API_KEY\")\n",
    "if not langsmith_api_key:\n",
    "    raise EnvironmentError(\"LANGSMITH_API_KEY not found in .env\")\n",
    "\n",
    "os.environ[\"LANGSMITH_API_KEY\"] = langsmith_api_key\n",
    "\n",
    "google_api_key = os.getenv(\"GOOGLE_API_KEY\")\n",
    "if not google_api_key:\n",
    "    raise EnvironmentError(\"GOOGLE_API_KEY not found in .env\")\n",
    "\n",
    "os.environ[\"GOOGLE_API_KEY\"] = google_api_key\n",
    "\n",
    "aws_access_key = os.getenv(\"AWS_ACCESS_KEY\")\n",
    "if not aws_access_key:\n",
    "    raise EnvironmentError(\"AWS_ACCESS_KEY not found in .env\")\n",
    "\n",
    "os.environ[\"AWS_ACCESS_KEY\"] = aws_access_key"
   ]
  },
  {
   "cell_type": "code",
   "execution_count": 8,
   "id": "b0bfc877",
   "metadata": {},
   "outputs": [
    {
     "name": "stdout",
     "output_type": "stream",
     "text": [
      "Total characters: 3997\n"
     ]
    }
   ],
   "source": [
    "import bs4\n",
    "from langchain_community.document_loaders import WebBaseLoader\n",
    "\n",
    "bs4_strainer = bs4.SoupStrainer(id=\"contenu\")\n",
    "loader = WebBaseLoader(\n",
    "    web_paths=(\"https://www.polemia.com/reveil-des-nations-orban-appelle-a-suivre-lexemple-de-trump/\",),\n",
    "    bs_kwargs={\"parse_only\": bs4_strainer},\n",
    ")\n",
    "docs = loader.load()\n",
    "print(f\"Total characters: {len(docs[0].page_content)}\")"
   ]
  },
  {
   "cell_type": "code",
   "execution_count": 6,
   "id": "378815e8",
   "metadata": {},
   "outputs": [
    {
     "name": "stdout",
     "output_type": "stream",
     "text": [
      "Split blog post into 7 sub-documents.\n"
     ]
    }
   ],
   "source": [
    "from langchain_text_splitters import RecursiveCharacterTextSplitter\n",
    "\n",
    "text_splitter = RecursiveCharacterTextSplitter(\n",
    "    chunk_size=1000,  # chunk size (characters)\n",
    "    chunk_overlap=200,  # chunk overlap (characters)\n",
    "    add_start_index=True,  # track index in original document\n",
    ")\n",
    "all_splits = text_splitter.split_documents(docs)\n",
    "\n",
    "print(f\"Split blog post into {len(all_splits)} sub-documents.\")"
   ]
  },
  {
   "cell_type": "code",
   "execution_count": 7,
   "id": "af6e51dc",
   "metadata": {},
   "outputs": [],
   "source": [
    "from langchain_community.vectorstores import FAISS\n",
    "from langchain_openai import OpenAIEmbeddings\n",
    "\n",
    "embedding_model = OpenAIEmbeddings(model=\"text-embedding-3-large\")\n",
    "\n",
    "# This requires faiss-cpu \n",
    "faiss_vector_store = FAISS.from_documents(all_splits, embedding_model)"
   ]
  },
  {
   "cell_type": "markdown",
   "id": "eb4e74bb",
   "metadata": {},
   "source": [
    "### For sync operations: use an s3 bucket"
   ]
  },
  {
   "cell_type": "code",
   "execution_count": 13,
   "id": "dea35886",
   "metadata": {},
   "outputs": [],
   "source": [
    "import boto3\n",
    "\n",
    "s3 = boto3.client('s3', region_name=\"eu-north-1\")"
   ]
  },
  {
   "cell_type": "markdown",
   "id": "1a67bd26",
   "metadata": {},
   "source": [
    "### Save to local index"
   ]
  },
  {
   "cell_type": "code",
   "execution_count": 20,
   "id": "c167c417",
   "metadata": {},
   "outputs": [],
   "source": [
    "faiss_vector_store.save_local(\"./vectorstore\")"
   ]
  },
  {
   "cell_type": "markdown",
   "id": "7f6bf73c",
   "metadata": {},
   "source": [
    "### Syncronize with bucket"
   ]
  },
  {
   "cell_type": "code",
   "execution_count": 23,
   "id": "aeeea405",
   "metadata": {},
   "outputs": [],
   "source": [
    "s3.upload_file(\"./vectorstore/index.faiss\", \"rag-faiss-index-bucket\", \"vectorstores/index.faiss\")\n",
    "s3.upload_file(\"./vectorstore/index.pkl\", \"rag-faiss-index-bucket\", \"vectorstores/index.pkl\")"
   ]
  },
  {
   "cell_type": "markdown",
   "id": "1c6d1445",
   "metadata": {},
   "source": [
    "### Now read from bucket"
   ]
  },
  {
   "cell_type": "code",
   "execution_count": 25,
   "id": "afc40653",
   "metadata": {},
   "outputs": [],
   "source": [
    "os.makedirs(\"./vectorstore\", exist_ok=True)\n",
    "s3.download_file(\"rag-faiss-index-bucket\", \"vectorstores/index.faiss\", \"./vectorstore/index.faiss\")\n",
    "s3.download_file(\"rag-faiss-index-bucket\", \"vectorstores/index.pkl\", \"./vectorstore/index.pkl\")"
   ]
  },
  {
   "cell_type": "markdown",
   "id": "20c149d8",
   "metadata": {},
   "source": [
    "### Load vector store"
   ]
  },
  {
   "cell_type": "code",
   "execution_count": 30,
   "id": "493c0d62",
   "metadata": {},
   "outputs": [],
   "source": [
    "vector_store = FAISS.load_local(\"./vectorstore\", embedding_model, allow_dangerous_deserialization=True)"
   ]
  },
  {
   "cell_type": "code",
   "execution_count": 31,
   "id": "006da0c9",
   "metadata": {},
   "outputs": [
    {
     "name": "stdout",
     "output_type": "stream",
     "text": [
      "You are an assistant for question-answering tasks.\n",
      "Use the following pieces of retrieved context to answer the question. \n",
      "If you don't know the answer, just say that you don't know. \n",
      "Use three sentences maximum and keep the answer concise. \n",
      "Question: (question goes here) \n",
      "Context: (context goes here) \n",
      "Answer:\n"
     ]
    }
   ],
   "source": [
    "from langchain_core.prompts import PromptTemplate\n",
    "\n",
    "\n",
    "prompt = PromptTemplate.from_template(\"\"\"You are an assistant for question-answering tasks.\n",
    "Use the following pieces of retrieved context to answer the question. \n",
    "If you don't know the answer, just say that you don't know. \n",
    "Use three sentences maximum and keep the answer concise. \n",
    "Question: {question} \n",
    "Context: {context} \n",
    "Answer:\"\"\")\n",
    "\n",
    "example_messages = prompt.invoke(\n",
    "    {\"context\": \"(context goes here)\", \"question\": \"(question goes here)\"}\n",
    ").to_messages()\n",
    "\n",
    "assert len(example_messages) == 1\n",
    "print(example_messages[0].content)"
   ]
  },
  {
   "cell_type": "code",
   "execution_count": 32,
   "id": "3e312f59",
   "metadata": {},
   "outputs": [],
   "source": [
    "from langchain_core.documents import Document\n",
    "from typing_extensions import List, TypedDict\n",
    "from langchain.chat_models import init_chat_model\n",
    "\n",
    "\n",
    "class State(TypedDict):\n",
    "    question: str\n",
    "    context: List[Document]\n",
    "    answer: str\n",
    "\n",
    "def retrieve(state: State):\n",
    "    retrieved_docs = vector_store.similarity_search(state[\"question\"])\n",
    "    return {\"context\": retrieved_docs}\n",
    "\n",
    "\n",
    "def generate(state: State):\n",
    "    docs_content = \"\\n\\n\".join(doc.page_content for doc in state[\"context\"])\n",
    "    messages = prompt.invoke({\"question\": state[\"question\"], \"context\": docs_content})\n",
    "    llm = init_chat_model(\"gemini-2.5-flash\", model_provider=\"google_genai\")\n",
    "    response = llm.invoke(messages)\n",
    "    return {\"answer\": response.content}"
   ]
  },
  {
   "cell_type": "code",
   "execution_count": 33,
   "id": "deaa69c3",
   "metadata": {},
   "outputs": [],
   "source": [
    "from langgraph.graph import START, StateGraph\n",
    "\n",
    "graph_builder = StateGraph(State).add_sequence([retrieve, generate])\n",
    "graph_builder.add_edge(START, \"retrieve\")\n",
    "graph = graph_builder.compile()"
   ]
  },
  {
   "cell_type": "code",
   "execution_count": 34,
   "id": "3e5da4d7",
   "metadata": {},
   "outputs": [
    {
     "name": "stdout",
     "output_type": "stream",
     "text": [
      "Context: [Document(id='53124be4-5c8a-458a-81b4-d0affcf533eb', metadata={'source': 'https://www.polemia.com/reveil-des-nations-orban-appelle-a-suivre-lexemple-de-trump/', 'start_index': 3256}, page_content='La paix : pas de nouveau front à l’est !\\nLa souveraineté : pas de centralisation bruxelloise\\nLes libertés : que les citoyens soient libres de penser et d’agir\\nLa culture enracinée dans les traditions contre l’idéologie nihiliste\\n\\nComment imposer cette option ? Par la victoire des forces nationales dans chaque pays. Les nations sont le levier du changement européen. Tout commence et se décide à la base, par le succès politique de terrain. «\\xa0Fight! Fight! Fight!\\xa0» : ce qui a donné à Trump sa victoire.\\nLa victoire de Trump est un atout en ce sens qu’il liquide en Amérique l’État profond, et que cette libération doit se propager pleinement en Europe.\\nThibaud Gibelin\\n29/05/2025\\nSource : Fil Twitter de Thibaud Gibelin\\nCrédit image : IA'), Document(id='c2f1b95d-2e61-4f09-a490-3776eacad8f5', metadata={'source': 'https://www.polemia.com/reveil-des-nations-orban-appelle-a-suivre-lexemple-de-trump/', 'start_index': 1163}, page_content='Une alliance conservatrice face au globalisme\\nLe discours de Viktor Orbán débute avec, d’abord, un passage en revue de tous les alliés présents, autant pour marquer un rapport de force international face au globalisme que pour accueillir des partenaires politiques.\\nFigurent les membres du groupe Patriotes pour l’Europe, mais aussi Irakli Kobakhidze de Géorgie, Alice Weidel dont l’AfD remplace désormais la CDU comme force de droite en Allemagne, et bien sûr Donald Trump.\\nSa victoire est une bonne nouvelle pour l’Occident car elle témoigne qu’on peut lutter avec succès contre l’immigration, l’idéologie woke et surtout l’État profond, pourvoyeur de chaos et de déclin pour les nations. C’est aussi une perspective de paix en Ukraine.\\nLe sursaut nécessaire des nations européennes'), Document(id='41d7c112-0e2d-4ccf-93f3-235b2e0ea5be', metadata={'source': 'https://www.polemia.com/reveil-des-nations-orban-appelle-a-suivre-lexemple-de-trump/', 'start_index': 1902}, page_content='Le sursaut nécessaire des nations européennes\\nTrump est une bonne nouvelle pour le «\\xa0rêve américain\\xa0», mais le problème des nations du Vieux Continent, c’est le «\\xa0rêve européen\\xa0». Renversement historique complet : l’unité européenne était gage de paix, elle entraîne maintenant le continent d’un bloc vers la guerre…\\nCe n’est pas l’affirmation d’une grande puissance, mais une diversion pour dissimuler une faillite calamiteuse : submersion migratoire, insécurité galopante, Green Deal ruineux, répression politique contre les alternatives populistes. Notre péril est d’abord intérieur.\\nIl y a deux options :\\n– l’option nationale où les peuples sont libres, c’est-à-dire responsables de leur destin, où l’Europe est forte de nations fortes, où l’indépendance et la puissance collectives impliquent des limites à l’individualisme ;'), Document(id='74c0dc0b-47b7-4a62-8d8d-4940335f7cc3', metadata={'source': 'https://www.polemia.com/reveil-des-nations-orban-appelle-a-suivre-lexemple-de-trump/', 'start_index': 1059}, page_content='1.\\nUne alliance conservatrice face au globalisme\\n\\n \\n2.\\nLe sursaut nécessaire des nations européennes')]\n",
      "\n",
      "\n",
      "Answer: Ce qui a donné sa victoire à Trump est la stratégie de \"Fight! Fight! Fight!\". Sa victoire est également vue comme une lutte réussie contre l'immigration, l'idéologie woke et l'État profond.\n"
     ]
    }
   ],
   "source": [
    "result = graph.invoke({\"question\": \"Qu'est-ce qui a donné sa victoire à Trump ?\"})\n",
    "\n",
    "print(f\"Context: {result['context']}\\n\\n\")\n",
    "print(f\"Answer: {result['answer']}\")"
   ]
  }
 ],
 "metadata": {
  "kernelspec": {
   "display_name": ".venv",
   "language": "python",
   "name": "python3"
  },
  "language_info": {
   "codemirror_mode": {
    "name": "ipython",
    "version": 3
   },
   "file_extension": ".py",
   "mimetype": "text/x-python",
   "name": "python",
   "nbconvert_exporter": "python",
   "pygments_lexer": "ipython3",
   "version": "3.12.3"
  }
 },
 "nbformat": 4,
 "nbformat_minor": 5
}
