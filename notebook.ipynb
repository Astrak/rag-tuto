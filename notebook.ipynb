{
 "cells": [
  {
   "cell_type": "code",
   "execution_count": 1,
   "id": "68cec13d",
   "metadata": {},
   "outputs": [],
   "source": [
    "from dotenv import load_dotenv\n",
    "import os\n",
    "\n",
    "load_dotenv()\n",
    "\n",
    "openai_api_key = os.getenv(\"OPENAI_API_KEY\")\n",
    "if not openai_api_key:\n",
    "    raise EnvironmentError(\"OPENAI_API_KEY not found in .env\")\n",
    "\n",
    "os.environ[\"OPENAI_API_KEY\"] = openai_api_key\n",
    "\n",
    "langsmith_api_key = os.getenv(\"LANGSMITH_API_KEY\")\n",
    "if not langsmith_api_key:\n",
    "    raise EnvironmentError(\"LANGSMITH_API_KEY not found in .env\")\n",
    "\n",
    "os.environ[\"LANGSMITH_API_KEY\"] = langsmith_api_key\n",
    "\n",
    "google_api_key = os.getenv(\"GOOGLE_API_KEY\")\n",
    "if not google_api_key:\n",
    "    raise EnvironmentError(\"GOOGLE_API_KEY not found in .env\")\n",
    "\n",
    "os.environ[\"GOOGLE_API_KEY\"] = google_api_key"
   ]
  },
  {
   "cell_type": "code",
   "execution_count": 2,
   "id": "ff7fb558",
   "metadata": {},
   "outputs": [],
   "source": [
    "from langchain_openai import OpenAIEmbeddings\n",
    "\n",
    "embeddings = OpenAIEmbeddings(model=\"text-embedding-3-large\")"
   ]
  },
  {
   "cell_type": "code",
   "execution_count": 3,
   "id": "af6e51dc",
   "metadata": {},
   "outputs": [],
   "source": [
    "from langchain_core.vectorstores import InMemoryVectorStore\n",
    "\n",
    "vector_store = InMemoryVectorStore(embeddings)"
   ]
  },
  {
   "cell_type": "code",
   "execution_count": 4,
   "id": "f8a34758",
   "metadata": {},
   "outputs": [],
   "source": [
    "from langchain.chat_models import init_chat_model\n",
    "\n",
    "llm = init_chat_model(\"gemini-2.5-flash\", model_provider=\"google_genai\")"
   ]
  },
  {
   "cell_type": "code",
   "execution_count": 5,
   "id": "b0bfc877",
   "metadata": {},
   "outputs": [
    {
     "name": "stderr",
     "output_type": "stream",
     "text": [
      "USER_AGENT environment variable not set, consider setting it to identify your requests.\n"
     ]
    },
    {
     "name": "stdout",
     "output_type": "stream",
     "text": [
      "Total characters: 3997\n",
      "\n",
      "\n",
      "\n",
      "\n",
      "\n",
      "Facebook\n",
      "\n",
      "\n",
      "\n",
      "Twitter\n",
      "\n",
      "\n",
      "\n",
      "LinkedIn\n",
      "\n",
      "\n",
      "\n",
      "Print Friendly\n",
      "\n",
      "\n",
      "\n",
      "À Budapest, le cœur battant de la résistance conservatrice s’est de nouveau fait entendre. Alors que les élites mondialisées poursuivent leur entreprise de déconstruction des nations, la « CPACHungary2025 » – l’édition hongroise de la grande conférence mondiale des conservateurs – s’impose comme rendez-vous incontournable pour tous ceux qui refusent l’effacement des peuples, des cultures et des souverainetés.\n",
      "Le discours de Viktor Orbán, entouré de figures majeures du combat conservateur, réaffirme une vision claire : celle d’une Europe enracinée, libre, fière de ses traditions et déterminée à reconquérir sa destinée.\n",
      "Nous reprenons ci-dessous le fil Twitter réalisé par Thibaud Gibelin, observateur français et auteur d’un ouvrage sur le président hongrois, qui revient sur les messages forts portés par Viktor Orbán lors de cette première journée décisive. Le discours du président hongtois présenté ci-dessous a été résumé et reformulé par Thibaud Gibelin.\n",
      "Polémia\n",
      " \n",
      "Sommaire \n",
      "masquer \n",
      "\n",
      "\n",
      " \n",
      "1.\n",
      "Une alliance conservatrice face au globalisme\n",
      "\n",
      " \n",
      "2.\n",
      "Le sursaut nécessaire des nations européennes\n",
      "\n",
      "\n",
      "\n",
      "Une alliance conservatrice face au globalisme\n",
      "Le discours de Viktor Orbán débute avec, d’abord, un passage en revue de tous les alliés présents, autant pour marquer un rapport de force international face au globalisme que pour accueillir des partenaires politiques.\n",
      "Figurent les membres du groupe Patriotes pour l’Europe, mais aussi Irakli Kobakhidze de Géorgie, Alice Weidel dont l’AfD remplace désormais la CDU comme force de droite en Allemagne, et bien sûr Donald Trump.\n",
      "Sa victoire est une bonne nouvelle pour l’Occident car elle témoigne qu’on peut lutter avec succès contre l’immigration, l’idéologie woke et surtout l’État profond, pourvoyeur de chaos et de déclin pour les nations. C’est aussi une perspective de paix en Ukraine.\n",
      "Le sursaut nécessaire des nations européennes\n",
      "Trump est une bonne nouvelle pour le « rêve américain », mais le problème des nations du Vieux Continent, c’est le « rêve européen ». Renversement historique complet : l’unité européenne était gage de paix, elle entraîne maintenant le continent d’un bloc vers la guerre…\n",
      "Ce n’est pas l’affirmation d’une grande puissance, mais une diversion pour dissimuler une faillite calamiteuse : submersion migratoire, insécurité galopante, Green Deal ruineux, répression politique contre les alternatives populistes. Notre péril est d’abord intérieur.\n",
      "Il y a deux options :\n",
      "– l’option nationale où les peuples sont libres, c’est-à-dire responsables de leur destin, où l’Europe est forte de nations fortes, où l’indépendance et la puissance collectives impliquent des limites à l’individualisme ;\n",
      "– l’option libérale qui liquide l’Europe historique, enracinée dans ses nations, au profit de la consommation de masse et d’un marché sans âme. Mais l’immigration est le mur du réel sur lequel s’écrase cette lubie.\n",
      "Bruxelles accomplit la deuxième option, et son pire défaut est que la guerre lui sert de levier pour imposer ce plan : l’Europe doit être fédéralisée sous prétexte de guerre en Ukraine, ce qui permet d’enchaîner les peuples sous de nouvelles dettes et d’enrichir une minorité.\n",
      "En face, la Hongrie propose :\n",
      "\n",
      "La paix : pas de nouveau front à l’est !\n",
      "La souveraineté : pas de centralisation bruxelloise\n",
      "Les libertés : que les citoyens soient libres de penser et d’agir\n",
      "La culture enracinée dans les traditions contre l’idéologie nihiliste\n",
      "\n",
      "Comment imposer cette option ? Par la victoire des forces nationales dans chaque pays. Les nations sont le levier du changement européen. Tout commence et se décide à la base, par le succès politique de terrain. « Fight! Fight! Fight! » : ce qui a donné à Trump sa victoire.\n",
      "La victoire de Trump est un atout en ce sens qu’il liquide en Amérique l’État profond, et que cette libération doit se propager pleinement en Europe.\n",
      "Thibaud Gibelin\n",
      "29/05/2025\n",
      "Source : Fil Twitter de Thibaud Gibelin\n",
      "Crédit image : IA\n",
      "\n",
      "\n"
     ]
    }
   ],
   "source": [
    "import bs4\n",
    "from langchain_community.document_loaders import WebBaseLoader\n",
    "\n",
    "bs4_strainer = bs4.SoupStrainer(id=\"contenu\")\n",
    "loader = WebBaseLoader(\n",
    "    web_paths=(\"https://www.polemia.com/reveil-des-nations-orban-appelle-a-suivre-lexemple-de-trump/\",),\n",
    "    bs_kwargs={\"parse_only\": bs4_strainer},\n",
    ")\n",
    "docs = loader.load()\n",
    "print(f\"Total characters: {len(docs[0].page_content)}\")\n",
    "print(docs[0].page_content)"
   ]
  },
  {
   "cell_type": "code",
   "execution_count": 6,
   "id": "378815e8",
   "metadata": {},
   "outputs": [
    {
     "name": "stdout",
     "output_type": "stream",
     "text": [
      "Split blog post into 7 sub-documents.\n"
     ]
    }
   ],
   "source": [
    "from langchain_text_splitters import RecursiveCharacterTextSplitter\n",
    "\n",
    "text_splitter = RecursiveCharacterTextSplitter(\n",
    "    chunk_size=1000,  # chunk size (characters)\n",
    "    chunk_overlap=200,  # chunk overlap (characters)\n",
    "    add_start_index=True,  # track index in original document\n",
    ")\n",
    "all_splits = text_splitter.split_documents(docs)\n",
    "\n",
    "print(f\"Split blog post into {len(all_splits)} sub-documents.\")"
   ]
  },
  {
   "cell_type": "code",
   "execution_count": 7,
   "id": "5f1bdedd",
   "metadata": {},
   "outputs": [],
   "source": [
    "document_ids = vector_store.add_documents(documents=all_splits)"
   ]
  },
  {
   "cell_type": "code",
   "execution_count": 8,
   "id": "006da0c9",
   "metadata": {},
   "outputs": [
    {
     "name": "stdout",
     "output_type": "stream",
     "text": [
      "You are an assistant for question-answering tasks.\n",
      "Use the following pieces of retrieved context to answer the question. \n",
      "If you don't know the answer, just say that you don't know. \n",
      "Use three sentences maximum and keep the answer concise. \n",
      "Question: (question goes here) \n",
      "Context: (context goes here) \n",
      "Answer:\n"
     ]
    }
   ],
   "source": [
    "from langchain_core.prompts import PromptTemplate\n",
    "\n",
    "\n",
    "prompt = PromptTemplate.from_template(\"\"\"You are an assistant for question-answering tasks.\n",
    "Use the following pieces of retrieved context to answer the question. \n",
    "If you don't know the answer, just say that you don't know. \n",
    "Use three sentences maximum and keep the answer concise. \n",
    "Question: {question} \n",
    "Context: {context} \n",
    "Answer:\"\"\")\n",
    "\n",
    "example_messages = prompt.invoke(\n",
    "    {\"context\": \"(context goes here)\", \"question\": \"(question goes here)\"}\n",
    ").to_messages()\n",
    "\n",
    "assert len(example_messages) == 1\n",
    "print(example_messages[0].content)"
   ]
  },
  {
   "cell_type": "code",
   "execution_count": 9,
   "id": "3e312f59",
   "metadata": {},
   "outputs": [],
   "source": [
    "from langchain_core.documents import Document\n",
    "from typing_extensions import List, TypedDict\n",
    "\n",
    "\n",
    "class State(TypedDict):\n",
    "    question: str\n",
    "    context: List[Document]\n",
    "    answer: str\n",
    "\n",
    "def retrieve(state: State):\n",
    "    retrieved_docs = vector_store.similarity_search(state[\"question\"])\n",
    "    return {\"context\": retrieved_docs}\n",
    "\n",
    "\n",
    "def generate(state: State):\n",
    "    docs_content = \"\\n\\n\".join(doc.page_content for doc in state[\"context\"])\n",
    "    messages = prompt.invoke({\"question\": state[\"question\"], \"context\": docs_content})\n",
    "    response = llm.invoke(messages)\n",
    "    return {\"answer\": response.content}"
   ]
  },
  {
   "cell_type": "code",
   "execution_count": 10,
   "id": "deaa69c3",
   "metadata": {},
   "outputs": [],
   "source": [
    "from langgraph.graph import START, StateGraph\n",
    "\n",
    "graph_builder = StateGraph(State).add_sequence([retrieve, generate])\n",
    "graph_builder.add_edge(START, \"retrieve\")\n",
    "graph = graph_builder.compile()"
   ]
  },
  {
   "cell_type": "code",
   "execution_count": 11,
   "id": "3e5da4d7",
   "metadata": {},
   "outputs": [
    {
     "name": "stdout",
     "output_type": "stream",
     "text": [
      "Context: [Document(id='f6bdc7e2-396d-472b-b5d8-02a203b78bee', metadata={'source': 'https://www.polemia.com/reveil-des-nations-orban-appelle-a-suivre-lexemple-de-trump/', 'start_index': 3256}, page_content='La paix : pas de nouveau front à l’est !\\nLa souveraineté : pas de centralisation bruxelloise\\nLes libertés : que les citoyens soient libres de penser et d’agir\\nLa culture enracinée dans les traditions contre l’idéologie nihiliste\\n\\nComment imposer cette option ? Par la victoire des forces nationales dans chaque pays. Les nations sont le levier du changement européen. Tout commence et se décide à la base, par le succès politique de terrain. «\\xa0Fight! Fight! Fight!\\xa0» : ce qui a donné à Trump sa victoire.\\nLa victoire de Trump est un atout en ce sens qu’il liquide en Amérique l’État profond, et que cette libération doit se propager pleinement en Europe.\\nThibaud Gibelin\\n29/05/2025\\nSource : Fil Twitter de Thibaud Gibelin\\nCrédit image : IA'), Document(id='e405f1b9-f7b7-455f-a677-686c99b455ba', metadata={'source': 'https://www.polemia.com/reveil-des-nations-orban-appelle-a-suivre-lexemple-de-trump/', 'start_index': 1163}, page_content='Une alliance conservatrice face au globalisme\\nLe discours de Viktor Orbán débute avec, d’abord, un passage en revue de tous les alliés présents, autant pour marquer un rapport de force international face au globalisme que pour accueillir des partenaires politiques.\\nFigurent les membres du groupe Patriotes pour l’Europe, mais aussi Irakli Kobakhidze de Géorgie, Alice Weidel dont l’AfD remplace désormais la CDU comme force de droite en Allemagne, et bien sûr Donald Trump.\\nSa victoire est une bonne nouvelle pour l’Occident car elle témoigne qu’on peut lutter avec succès contre l’immigration, l’idéologie woke et surtout l’État profond, pourvoyeur de chaos et de déclin pour les nations. C’est aussi une perspective de paix en Ukraine.\\nLe sursaut nécessaire des nations européennes'), Document(id='e17638f6-a062-4d6f-aa6e-6622313f06a1', metadata={'source': 'https://www.polemia.com/reveil-des-nations-orban-appelle-a-suivre-lexemple-de-trump/', 'start_index': 1902}, page_content='Le sursaut nécessaire des nations européennes\\nTrump est une bonne nouvelle pour le «\\xa0rêve américain\\xa0», mais le problème des nations du Vieux Continent, c’est le «\\xa0rêve européen\\xa0». Renversement historique complet : l’unité européenne était gage de paix, elle entraîne maintenant le continent d’un bloc vers la guerre…\\nCe n’est pas l’affirmation d’une grande puissance, mais une diversion pour dissimuler une faillite calamiteuse : submersion migratoire, insécurité galopante, Green Deal ruineux, répression politique contre les alternatives populistes. Notre péril est d’abord intérieur.\\nIl y a deux options :\\n– l’option nationale où les peuples sont libres, c’est-à-dire responsables de leur destin, où l’Europe est forte de nations fortes, où l’indépendance et la puissance collectives impliquent des limites à l’individualisme ;'), Document(id='023984fb-32e9-4fed-9a33-dd07448e4052', metadata={'source': 'https://www.polemia.com/reveil-des-nations-orban-appelle-a-suivre-lexemple-de-trump/', 'start_index': 1059}, page_content='1.\\nUne alliance conservatrice face au globalisme\\n\\n \\n2.\\nLe sursaut nécessaire des nations européennes')]\n",
      "\n",
      "\n",
      "Answer: Ce qui a donné sa victoire à Trump est la stratégie « Fight! Fight! Fight! ». Cette approche a permis le succès politique de terrain des forces nationales. Sa victoire est également vue comme un atout pour lutter contre l'État profond.\n"
     ]
    }
   ],
   "source": [
    "result = graph.invoke({\"question\": \"Qu'est-ce qui a donné sa victoire à Trump ?\"})\n",
    "\n",
    "print(f\"Context: {result['context']}\\n\\n\")\n",
    "print(f\"Answer: {result['answer']}\")"
   ]
  },
  {
   "cell_type": "code",
   "execution_count": null,
   "id": "dda9f57b",
   "metadata": {},
   "outputs": [],
   "source": []
  }
 ],
 "metadata": {
  "kernelspec": {
   "display_name": ".venv",
   "language": "python",
   "name": "python3"
  },
  "language_info": {
   "codemirror_mode": {
    "name": "ipython",
    "version": 3
   },
   "file_extension": ".py",
   "mimetype": "text/x-python",
   "name": "python",
   "nbconvert_exporter": "python",
   "pygments_lexer": "ipython3",
   "version": "3.12.3"
  }
 },
 "nbformat": 4,
 "nbformat_minor": 5
}
